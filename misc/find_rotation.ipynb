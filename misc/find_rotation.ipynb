{
 "cells": [
  {
   "cell_type": "markdown",
   "id": "4d90baf2",
   "metadata": {},
   "source": [
    "\n",
    "**Adopted from:**\n",
    "\n",
    "https://stackoverflow.com/questions/60877274/optimal-rotation-in-3d-with-kabsch-algorithm\n",
    "\n"
   ]
  },
  {
   "cell_type": "code",
   "execution_count": 22,
   "id": "58d579b1",
   "metadata": {},
   "outputs": [],
   "source": [
    "import numpy as np\n",
    "import csv "
   ]
  },
  {
   "cell_type": "code",
   "execution_count": 23,
   "id": "c9e2dc41",
   "metadata": {},
   "outputs": [
    {
     "name": "stdout",
     "output_type": "stream",
     "text": [
      "[[0.0945736434108525, 0.873643410852713, 5.0], [-14.3941176470588, -5.55882352941177, 5.0], [-13.2347457627119, 4.6957627118644, 5.0], [-4.61333333333333, 11.9591666666667, 5.0], [4.84344262295082, 12.6114754098361, 5.0], [9.63, 4.5275, 5.0], [12.6933333333333, -5.42666666666667, 5.0], [5.64, -11.9096, 5.0], [-6.32169811320755, -14.8801886792453, 5.0]]\n",
      "[[0.0, 0.0, 0.0], [0.0, 15.0, 0.0], [12.0, 12.0, 0.0], [15.0, 0.0, 0.0], [12.0, -12.0, 0.0], [0.0, -15.0, 0.0], [-12.0, -12.0, 0.0], [-15.0, 0.0, 0.0], [-12.0, 12.0, 0.0]]\n"
     ]
    }
   ],
   "source": [
    "map_points = []\n",
    "true_points = []\n",
    "\n",
    "csvfile = 'file.csv'   # enter csv file here with coordinates for the rotation matrix\n",
    "\n",
    "with open(csvfile, 'r') as f:\n",
    "    csvreader = csv.reader(f)\n",
    "    for row in csvreader:\n",
    "        map_points.append([float(i) for i in row[0:3]])\n",
    "        true_points.append([float(i) for i in row[3:]])\n",
    "        \n",
    "\n",
    "print(map_points)\n",
    "print(true_points)                 \n",
    "    "
   ]
  },
  {
   "cell_type": "code",
   "execution_count": 24,
   "id": "9c5ac1c8",
   "metadata": {},
   "outputs": [],
   "source": [
    "mapped_centroid = np.average(map_points, axis=0)\n",
    "true_centroid = np.average(true_points, axis=0)\n",
    "\n",
    "map_points -= mapped_centroid\n",
    "true_points -= true_centroid\n"
   ]
  },
  {
   "cell_type": "code",
   "execution_count": 25,
   "id": "71395d55",
   "metadata": {},
   "outputs": [
    {
     "name": "stdout",
     "output_type": "stream",
     "text": [
      "[[-0.39324052  0.91943564  0.        ]\n",
      " [-0.91943564 -0.39324052  0.        ]\n",
      " [ 0.          0.          1.        ]] [ 0.07006845 -0.71427017 -5.        ]\n"
     ]
    }
   ],
   "source": [
    "h = map_points.T @ true_points\n",
    "u, s, vt = np.linalg.svd(h)\n",
    "v = vt.T\n",
    "\n",
    "d = np.linalg.det(v @ u.T)\n",
    "e = np.array([[1, 0, 0], [0, 1, 0], [0, 0, d]])\n",
    "\n",
    "r = v @ e @ u.T\n",
    "\n",
    "tt = true_centroid - np.matmul(r, mapped_centroid)\n",
    "print(r, tt)"
   ]
  },
  {
   "cell_type": "code",
   "execution_count": 26,
   "id": "2d383142",
   "metadata": {},
   "outputs": [],
   "source": [
    "np.save('Rot.npy', r)\n",
    "np.save('Tr.npy', tt)"
   ]
  },
  {
   "cell_type": "markdown",
   "id": "99adf4e1",
   "metadata": {},
   "source": [
    "**Using scipy** "
   ]
  },
  {
   "cell_type": "code",
   "execution_count": 27,
   "id": "2cca94a6",
   "metadata": {},
   "outputs": [],
   "source": [
    "from scipy.spatial.transform import Rotation"
   ]
  },
  {
   "cell_type": "code",
   "execution_count": 28,
   "id": "cc80ffa5",
   "metadata": {},
   "outputs": [],
   "source": [
    "R = Rotation.align_vectors(map_points, true_points)[0].as_matrix()"
   ]
  },
  {
   "cell_type": "code",
   "execution_count": 29,
   "id": "920e0c64",
   "metadata": {
    "scrolled": true
   },
   "outputs": [
    {
     "name": "stdout",
     "output_type": "stream",
     "text": [
      "[[-0.39324052 -0.91943564  0.        ]\n",
      " [ 0.91943564 -0.39324052  0.        ]\n",
      " [ 0.          0.          1.        ]]\n"
     ]
    }
   ],
   "source": [
    "print(R)"
   ]
  },
  {
   "cell_type": "markdown",
   "id": "b91aec09",
   "metadata": {},
   "source": [
    "**Reverse testing Rot and tt**"
   ]
  },
  {
   "cell_type": "code",
   "execution_count": 37,
   "id": "c595a5a1",
   "metadata": {},
   "outputs": [
    {
     "name": "stdout",
     "output_type": "stream",
     "text": [
      "[11.0, -12.2, 0.0]\n"
     ]
    }
   ],
   "source": [
    "r = [-14.9, -5.55, 5]\n",
    "r_tran = R @ r + tt\n",
    "print([round(r_tran[i], 1) for i in range(0, len(r_tran))])"
   ]
  }
 ],
 "metadata": {
  "kernelspec": {
   "display_name": "fortor",
   "language": "python",
   "name": "fortor"
  },
  "language_info": {
   "codemirror_mode": {
    "name": "ipython",
    "version": 3
   },
   "file_extension": ".py",
   "mimetype": "text/x-python",
   "name": "python",
   "nbconvert_exporter": "python",
   "pygments_lexer": "ipython3",
   "version": "3.11.4"
  }
 },
 "nbformat": 4,
 "nbformat_minor": 5
}
