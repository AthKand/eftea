{
 "cells": [
  {
   "cell_type": "code",
   "execution_count": 3,
   "id": "31050730",
   "metadata": {},
   "outputs": [],
   "source": [
    "# Enable interactive plot\n",
    "%matplotlib notebook"
   ]
  },
  {
   "cell_type": "markdown",
   "id": "a592ca4d",
   "metadata": {},
   "source": [
    "<font size=\"5\"> **(Testing) point of application** </font>\n",
    "\n",
    "Find relevant point of application based on F and M values. "
   ]
  },
  {
   "cell_type": "code",
   "execution_count": 101,
   "id": "273d449c",
   "metadata": {},
   "outputs": [],
   "source": [
    "import numpy as np\n",
    "import matplotlib.pyplot as plt\n",
    "from mpl_toolkits.mplot3d import Axes3D\n",
    "from mpl_toolkits.mplot3d.art3d import Poly3DCollection\n",
    "from scipy.optimize import minimize, Bounds\n",
    "import random"
   ]
  },
  {
   "cell_type": "code",
   "execution_count": 147,
   "id": "f5f91efd",
   "metadata": {},
   "outputs": [
    {
     "name": "stdout",
     "output_type": "stream",
     "text": [
      "r: [ 0.1 -0.1  0. ]\n"
     ]
    }
   ],
   "source": [
    "r_test = np.array([0.1, -0.10, 0])\n",
    "F_test = np.array([0, 9, -3])\n",
    "\n",
    "M_test = np.cross(r_test, F_test)\n",
    "print('r:',  r_test)"
   ]
  },
  {
   "cell_type": "code",
   "execution_count": 148,
   "id": "aa77e590",
   "metadata": {},
   "outputs": [],
   "source": [
    "orig = np.array([0.0, 0.0, 0])"
   ]
  },
  {
   "cell_type": "code",
   "execution_count": 149,
   "id": "73937da6",
   "metadata": {},
   "outputs": [],
   "source": [
    "def func(r, F, M, orig):\n",
    "    return np.linalg.norm(np.cross(r - orig, F) - M)"
   ]
  },
  {
   "cell_type": "code",
   "execution_count": 150,
   "id": "6fabf684",
   "metadata": {},
   "outputs": [],
   "source": [
    "bounds_x = (-0.15, 0.15)\n",
    "bounds_y = (-0.15, 0.15)\n",
    "bounds_z = (0, 0)"
   ]
  },
  {
   "cell_type": "code",
   "execution_count": 151,
   "id": "597fd15f",
   "metadata": {},
   "outputs": [
    {
     "name": "stdout",
     "output_type": "stream",
     "text": [
      "[ 0.09999747 -0.09995743  0.        ]\n"
     ]
    }
   ],
   "source": [
    "# initial guess\n",
    "r0 = np.array([0.00, 0.0, 0])\n",
    "\n",
    "# find r that minimizes the objective function\n",
    "res = minimize(func, r0, \n",
    "               args=(F_test, M_test, orig), \n",
    "               method='Nelder-Mead', \n",
    "               bounds=(bounds_x, bounds_y, bounds_z))\n",
    "r_min = res.x\n",
    "\n",
    "print(r_min)"
   ]
  },
  {
   "cell_type": "markdown",
   "id": "af8e69e5",
   "metadata": {},
   "source": [
    "**Optimizer / minimiser set up**"
   ]
  },
  {
   "cell_type": "code",
   "execution_count": 59,
   "id": "a1607ae6",
   "metadata": {},
   "outputs": [],
   "source": [
    "# dimensions of the block\n",
    "length = 30/1000\n",
    "width = 30/1000\n",
    "height = 2.5/1000"
   ]
  },
  {
   "cell_type": "code",
   "execution_count": 60,
   "id": "c136c6d8",
   "metadata": {},
   "outputs": [
    {
     "name": "stdout",
     "output_type": "stream",
     "text": [
      "[7 0 0]\n",
      "[1 6 4]\n"
     ]
    }
   ],
   "source": [
    "# Moments\n",
    "Mx = random.randint(0, 10)\n",
    "My = random.randint(0, 10)\n",
    "Mz = random.randint(0, 10)\n",
    "\n",
    "# Forces\n",
    "Fx = random.randint(0, 10)\n",
    "Fy = random.randint(0, 10)\n",
    "Fz = random.randint(0, 10)\n",
    "\n",
    "M = np.array([Mx, My, Mz])\n",
    "F = np.array([Fx, Fy, Fz])\n",
    "orig = np.array([0, 0, 0])\n",
    "\n",
    "print(M)\n",
    "print(F)"
   ]
  },
  {
   "cell_type": "code",
   "execution_count": 61,
   "id": "c05e3de1",
   "metadata": {},
   "outputs": [],
   "source": [
    "# objective function to minimize\n",
    "def func(r, F, M, orig):\n",
    "    return np.linalg.norm(np.cross(r - orig, F) - M)"
   ]
  },
  {
   "cell_type": "code",
   "execution_count": 62,
   "id": "f605454b",
   "metadata": {},
   "outputs": [
    {
     "name": "stdout",
     "output_type": "stream",
     "text": [
      "[-1.41880237e-07  5.28301077e-01 -7.92453373e-01]\n"
     ]
    }
   ],
   "source": [
    "# initial guess\n",
    "r0 = np.array([0.0, 0.0, 0])\n",
    "\n",
    "# find r that minimizes the objective function\n",
    "res = minimize(func, r0, args=(F, M, orig), method='BFGS')\n",
    "r_min = res.x\n",
    "print(r_min)"
   ]
  }
 ],
 "metadata": {
  "kernelspec": {
   "display_name": "fortor",
   "language": "python",
   "name": "fortor"
  },
  "language_info": {
   "codemirror_mode": {
    "name": "ipython",
    "version": 3
   },
   "file_extension": ".py",
   "mimetype": "text/x-python",
   "name": "python",
   "nbconvert_exporter": "python",
   "pygments_lexer": "ipython3",
   "version": "3.11.4"
  }
 },
 "nbformat": 4,
 "nbformat_minor": 5
}
